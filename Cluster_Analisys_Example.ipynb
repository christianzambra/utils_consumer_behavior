{
 "cells": [
  {
   "cell_type": "markdown",
   "metadata": {},
   "source": [
    "# Import the needed libraries"
   ]
  },
  {
   "cell_type": "code",
   "execution_count": 14,
   "metadata": {},
   "outputs": [],
   "source": [
    "\n",
    "import pandas as pd\n",
    "import numpy as np\n",
    "import matplotlib as mpl\n",
    "import matplotlib.pyplot as plt\n",
    "from sklearn.cluster import KMeans\n",
    "from scipy.spatial import ConvexHull"
   ]
  },
  {
   "cell_type": "markdown",
   "metadata": {},
   "source": [
    "# Import the files to be analyzed"
   ]
  },
  {
   "cell_type": "markdown",
   "metadata": {},
   "source": [
    "### In my case, I had one .csv file. The column names were the questions, and the values were the answers, given by a likert scale from 1 to 7.\n"
   ]
  },
  {
   "cell_type": "code",
   "execution_count": 2,
   "metadata": {},
   "outputs": [],
   "source": [
    "address=\"C:/Users/chris/Desktop/Estudos/Mestrado/Estudo_Medo/Dados_Experimento_Medo_V1.csv\"\n",
    "\n",
    "dts_medo = pd.read_csv(address)"
   ]
  },
  {
   "cell_type": "markdown",
   "metadata": {},
   "source": [
    "### As the column names were too big, I needed to change this. So I created a table with new names, renamed the columns"
   ]
  },
  {
   "cell_type": "code",
   "execution_count": 3,
   "metadata": {},
   "outputs": [],
   "source": [
    "endereco_cabecalho=\"C:/Users/chris/Desktop/Estudos/Mestrado/Estudo_Medo/Dados_Experimento_Medo_V1_de_para_cabecalho.csv\"\n",
    "dts_medo_cabecalho = pd.read_csv(endereco_cabecalho,header=None)\n",
    "dts_medo = dts_medo.set_axis(dts_medo_cabecalho.iloc[0], axis=1, inplace=False)\n"
   ]
  },
  {
   "cell_type": "markdown",
   "metadata": {},
   "source": [
    "### and in order to analyse clusters, I created a subset with intention (intenção in Portuguese) and Anxiety (ansiedade in Portuguese)"
   ]
  },
  {
   "cell_type": "code",
   "execution_count": 4,
   "metadata": {},
   "outputs": [],
   "source": [
    "dts_medo_int_ans=pd.concat([\n",
    "    dts_medo.questionario_tipo,\n",
    "    (dts_medo.intencao_01+dts_medo.intencao_02+dts_medo.intencao_03+dts_medo.intencao_04+dts_medo.intencao_05)/5,\n",
    "    (dts_medo.ansiedade_01+dts_medo.ansiedade_02+dts_medo.ansiedade_03+dts_medo.ansiedade_04+dts_medo.ansiedade_05+dts_medo.ansiedade_06)/6,\n",
    "                           ],\n",
    " axis=1,ignore_index=True)\n",
    "\n",
    "#nomeando as colunas da nova tabela\n",
    "dts_medo_int_ans.columns=['questionario_tipo','intencao','ansiedade']"
   ]
  },
  {
   "cell_type": "markdown",
   "metadata": {},
   "source": [
    "# Clustering"
   ]
  },
  {
   "cell_type": "code",
   "execution_count": 5,
   "metadata": {},
   "outputs": [],
   "source": [
    "# Here we calculated 2 clusters, using kmeans method.\n",
    "\n",
    "kmeans_2 = KMeans(n_clusters=2).fit(dts_medo_int_ans[['intencao', 'ansiedade']])\n",
    "centroids_2 = kmeans_2.cluster_centers_"
   ]
  },
  {
   "cell_type": "code",
   "execution_count": 6,
   "metadata": {},
   "outputs": [
    {
     "name": "stdout",
     "output_type": "stream",
     "text": [
      "   questionario_tipo  intencao  ansiedade  kmeans_2\n",
      "0                  S       7.0   1.333333         1\n",
      "1                  S       6.4   1.000000         1\n",
      "2                  S       6.6   1.000000         1\n",
      "3                  S       7.0   1.000000         1\n",
      "4                  S       5.2   1.000000         0\n",
      "5                  S       6.0   1.000000         1\n",
      "6                  S       7.0   1.000000         1\n",
      "7                  S       7.0   1.500000         1\n",
      "8                  S       6.0   1.833333         1\n",
      "9                  S       6.0   2.000000         1\n",
      "10                 S       4.0   1.000000         0\n",
      "11                 S       7.0   1.000000         1\n",
      "12                 S       4.0   1.000000         0\n",
      "13                 M       4.2   4.333333         0\n",
      "14                 M       5.0   1.000000         0\n",
      "15                 M       5.2   1.000000         0\n",
      "16                 M       7.0   1.166667         1\n",
      "17                 M       4.2   2.333333         0\n",
      "18                 M       6.4   1.000000         1\n",
      "19                 N       7.0   3.666667         1\n",
      "20                 N       7.0   1.000000         1\n",
      "21                 N       7.0   1.166667         1\n",
      "22                 N       5.8   2.500000         1\n",
      "23                 N       7.0   1.000000         1\n",
      "24                 N       7.0   3.166667         1\n",
      "25                 N       4.0   1.000000         0\n",
      "26                 N       3.4   6.000000         0\n",
      "27                 N       4.2   1.000000         0\n",
      "28                 N       4.4   1.000000         0\n",
      "29                 N       3.8   1.000000         0\n",
      "30                 N       7.0   1.000000         1\n",
      "31                 N       7.0   1.000000         1\n",
      "32                 N       3.2   1.166667         0\n",
      "33                 N       4.2   1.000000         0\n",
      "34                 N       5.0   1.000000         0\n",
      "35                 N       6.0   2.333333         1\n",
      "36                 N       4.8   2.000000         0\n"
     ]
    }
   ],
   "source": [
    "# Here we add the cluster classification to the table, in order to facilitate the plotting\n",
    "dts_medo_int_ans['kmeans_2'] = kmeans_2.fit_predict(dts_medo_int_ans[['intencao', 'ansiedade']])\n",
    "print(dts_medo_int_ans)"
   ]
  },
  {
   "cell_type": "code",
   "execution_count": 8,
   "metadata": {},
   "outputs": [
    {
     "name": "stdout",
     "output_type": "stream",
     "text": [
      "   questionario_tipo  intencao  ansiedade  kmeans_2 color\n",
      "0                  S       7.0   1.333333         1  blue\n",
      "1                  S       6.4   1.000000         1  blue\n",
      "2                  S       6.6   1.000000         1  blue\n",
      "3                  S       7.0   1.000000         1  blue\n",
      "4                  S       5.2   1.000000         0   red\n",
      "5                  S       6.0   1.000000         1  blue\n",
      "6                  S       7.0   1.000000         1  blue\n",
      "7                  S       7.0   1.500000         1  blue\n",
      "8                  S       6.0   1.833333         1  blue\n",
      "9                  S       6.0   2.000000         1  blue\n",
      "10                 S       4.0   1.000000         0   red\n",
      "11                 S       7.0   1.000000         1  blue\n",
      "12                 S       4.0   1.000000         0   red\n",
      "13                 M       4.2   4.333333         0   red\n",
      "14                 M       5.0   1.000000         0   red\n",
      "15                 M       5.2   1.000000         0   red\n",
      "16                 M       7.0   1.166667         1  blue\n",
      "17                 M       4.2   2.333333         0   red\n",
      "18                 M       6.4   1.000000         1  blue\n",
      "19                 N       7.0   3.666667         1  blue\n",
      "20                 N       7.0   1.000000         1  blue\n",
      "21                 N       7.0   1.166667         1  blue\n",
      "22                 N       5.8   2.500000         1  blue\n",
      "23                 N       7.0   1.000000         1  blue\n",
      "24                 N       7.0   3.166667         1  blue\n",
      "25                 N       4.0   1.000000         0   red\n",
      "26                 N       3.4   6.000000         0   red\n",
      "27                 N       4.2   1.000000         0   red\n",
      "28                 N       4.4   1.000000         0   red\n",
      "29                 N       3.8   1.000000         0   red\n",
      "30                 N       7.0   1.000000         1  blue\n",
      "31                 N       7.0   1.000000         1  blue\n",
      "32                 N       3.2   1.166667         0   red\n",
      "33                 N       4.2   1.000000         0   red\n",
      "34                 N       5.0   1.000000         0   red\n",
      "35                 N       6.0   2.333333         1  blue\n",
      "36                 N       4.8   2.000000         0   red\n"
     ]
    }
   ],
   "source": [
    "#Here we set a color, according to the cluster\n",
    "\n",
    "# create a function\n",
    "def set_color(kmeans_2):\n",
    "    if kmeans_2 == 0:\n",
    "        return 'red'\n",
    "    if kmeans_2 == 1:\n",
    "        return 'blue'\n",
    "    else:\n",
    "        return 'black'\n",
    "    \n",
    "# create a new column based on condition\n",
    "dts_medo_int_ans['color'] = dts_medo_int_ans['kmeans_2'].apply(set_color)\n",
    "# display the dataframe\n",
    "#print(dts_medo_int_ans)\n"
   ]
  },
  {
   "cell_type": "code",
   "execution_count": 10,
   "metadata": {},
   "outputs": [
    {
     "data": {
      "image/png": "[encoded data removed]",
      "text/plain": [
       "<Figure size 432x288 with 1 Axes>"
      ]
     },
     "metadata": {
      "needs_background": "light"
     },
     "output_type": "display_data"
    }
   ],
   "source": [
    "#Here we display the points, marking the clusters by color. Green is used to the center\n",
    "plt.scatter(dts_medo_int_ans.intencao, dts_medo_int_ans.ansiedade, c= dts_medo_int_ans.color, s=50, alpha=0.5)\n",
    "plt.scatter(centroids_2[:, 0], centroids_2[:, 1], c='green', s=50)\n",
    "plt.xlim(0,7)\n",
    "plt.ylim(0,7)\n",
    "plt.xlabel(\"intencao\")\n",
    "plt.ylabel(\"ansiedade\")\n",
    "plt.show()"
   ]
  },
  {
   "cell_type": "code",
   "execution_count": 18,
   "metadata": {},
   "outputs": [
    {
     "data": {
      "text/plain": [
       "Text(0, 0.5, 'ansiedade')"
      ]
     },
     "execution_count": 18,
     "metadata": {},
     "output_type": "execute_result"
    },
    {
     "data": {
      "image/png": "[encoded data removed]",
      "text/plain": [
       "<Figure size 576x576 with 1 Axes>"
      ]
     },
     "metadata": {
      "needs_background": "light"
     },
     "output_type": "display_data"
    }
   ],
   "source": [
    "#dts_medo_int_ans['kmeans_2'] = kmeans_2.fit_predict(dts_medo_int_ans[['intencao', 'ansiedade']])\n",
    "##colors = ['#DF2020', '#81DF20', '#2095DF']\n",
    "colors = ['red', 'blue', 'black']\n",
    "#dts_medo_int_ans['c'] = dts_medo_int_ans.kmeans_2.map({0:colors[0], 1:colors[1], 2:colors[2]})\n",
    "\n",
    "\n",
    "\n",
    "fig, ax = plt.subplots(1, figsize=(8,8))\n",
    "# plot data\n",
    "#plt.scatter(df.Attack, df.Defense, c=df.c, alpha = 0.6, s=10)\n",
    "plt.scatter(dts_medo_int_ans.intencao, dts_medo_int_ans.ansiedade, c= dts_medo_int_ans.color, s=50, alpha=0.5)\n",
    "\n",
    "# plot centers\n",
    "#plt.scatter(cen_x, cen_y, marker='^', c=colors, s=70)\n",
    "plt.scatter(centroids_2[:, 0], centroids_2[:, 1], c='green', s=5)\n",
    "\n",
    "# draw enclosure\n",
    "for i in dts_medo_int_ans.kmeans_2.unique():\n",
    "    points = dts_medo_int_ans[dts_medo_int_ans.kmeans_2 == i][['intencao', 'ansiedade']].values\n",
    "# get convex hull\n",
    "    hull = ConvexHull(points)\n",
    "# get x and y coordinates\n",
    "# repeat last point to close the polygon\n",
    "    x_hull = np.append(points[hull.vertices,0],\n",
    "                       points[hull.vertices,0][0])\n",
    "    y_hull = np.append(points[hull.vertices,1],\n",
    "                       points[hull.vertices,1][0])\n",
    "# plot shape\n",
    "    plt.fill(x_hull, y_hull, alpha=0.3, c=colors[i])\n",
    "    \n",
    "plt.xlim(0,7)\n",
    "plt.ylim(0,7)\n",
    "plt.xlabel(\"intencao\")\n",
    "plt.ylabel(\"ansiedade\")"
   ]
  },
  {
   "cell_type": "code",
   "execution_count": null,
   "metadata": {},
   "outputs": [],
   "source": []
  }
 ],
 "metadata": {
  "kernelspec": {
   "display_name": "Python 3",
   "language": "python",
   "name": "python3"
  },
  "language_info": {
   "codemirror_mode": {
    "name": "ipython",
    "version": 3
   },
   "file_extension": ".py",
   "mimetype": "text/x-python",
   "name": "python",
   "nbconvert_exporter": "python",
   "pygments_lexer": "ipython3",
   "version": "3.8.5"
  }
 },
 "nbformat": 4,
 "nbformat_minor": 4
}
