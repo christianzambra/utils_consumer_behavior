{
 "cells": [
  {
   "cell_type": "markdown",
   "metadata": {},
   "source": [
    "# Import the needed libraries"
   ]
  },
  {
   "cell_type": "code",
   "execution_count": 12,
   "metadata": {},
   "outputs": [],
   "source": [
    "\n",
    "import pandas as pd\n",
    "import numpy as np\n"
   ]
  },
  {
   "cell_type": "markdown",
   "metadata": {},
   "source": [
    "# Import the files to be analyzed"
   ]
  },
  {
   "cell_type": "markdown",
   "metadata": {},
   "source": [
    "### In my case, I had one .csv file. The column names were the questions, and the values were the answers, given by a likert scale from 1 to 7.\n"
   ]
  },
  {
   "cell_type": "code",
   "execution_count": 13,
   "metadata": {},
   "outputs": [],
   "source": [
    "address=\"C:/Users/chris/Desktop/Estudos/Mestrado/Estudo_Medo/Dados_Experimento_Medo_V1.csv\"\n",
    "\n",
    "dts_medo = pd.read_csv(address)"
   ]
  },
  {
   "cell_type": "code",
   "execution_count": 14,
   "metadata": {},
   "outputs": [],
   "source": [
    "### As the column names were too big, I needed to change this. So I created a table with new names, renamed the columns"
   ]
  },
  {
   "cell_type": "code",
   "execution_count": 15,
   "metadata": {},
   "outputs": [],
   "source": [
    "endereco_cabecalho=\"C:/Users/chris/Desktop/Estudos/Mestrado/Estudo_Medo/Dados_Experimento_Medo_V1_de_para_cabecalho.csv\"\n",
    "dts_medo_cabecalho = pd.read_csv(endereco_cabecalho,header=None)\n",
    "dts_medo = dts_medo.set_axis(dts_medo_cabecalho.iloc[0], axis=1, inplace=False)\n"
   ]
  },
  {
   "cell_type": "markdown",
   "metadata": {},
   "source": [
    "# Crombach Alpha Function"
   ]
  },
  {
   "cell_type": "code",
   "execution_count": 16,
   "metadata": {},
   "outputs": [],
   "source": [
    "def CronbachAlpha(itemscores):\n",
    "    itemscores = np.asarray(itemscores)\n",
    "    itemvars = itemscores.var(axis=1, ddof=1)\n",
    "    tscores = itemscores.sum(axis=0)\n",
    "    nitems = len(itemscores)\n",
    "\n",
    "    return nitems / (nitems-1.) * (1 - itemvars.sum() / tscores.var(ddof=1))"
   ]
  },
  {
   "cell_type": "markdown",
   "metadata": {},
   "source": [
    "# Find the best combination of questions, from 5 questions grouped 3 in 3"
   ]
  },
  {
   "cell_type": "markdown",
   "metadata": {},
   "source": [
    "### This function calculate the crombach alpha of all the combinations of the 5 questions in groups of 3. (9 groups). Then, it order the resulting dataset, with the fist line been the best combination"
   ]
  },
  {
   "cell_type": "code",
   "execution_count": 17,
   "metadata": {},
   "outputs": [],
   "source": [
    "def crombach_5columns_3_in_3(dataset_with_5_columns):\n",
    "\n",
    "    dts = dataset_with_5_columns\n",
    "\n",
    "    dts = dts.set_axis([['a','b','c','d','e']], axis=1, inplace=False)\n",
    "\n",
    "\n",
    "    x1=dts[['a']]\n",
    "    x2=dts[['b']]\n",
    "    x3=dts[['c']]\n",
    "    x4=dts[['d']]\n",
    "    x5=dts[['e']]\n",
    "\n",
    "\n",
    "    ca_123 = CronbachAlpha([x1,x2,x3])\n",
    "    ca_124 = CronbachAlpha([x1,x2,x4])\n",
    "    ca_125 = CronbachAlpha([x1,x2,x5])\n",
    "    ca_134 = CronbachAlpha([x1,x3,x4])\n",
    "    ca_135 = CronbachAlpha([x1,x3,x5])\n",
    "    ca_145 = CronbachAlpha([x1,x4,x5])\n",
    "    ca_234 = CronbachAlpha([x2,x3,x4])\n",
    "    ca_235 = CronbachAlpha([x2,x3,x5])\n",
    "    ca_345 = CronbachAlpha([x3,x4,x5])\n",
    "\n",
    "    data = {\"Combinacao\":[\"ca_123\",\"ca_124\", \"ca_125\", \"ca_134\",\"ca_135\", \"ca_145\",\"ca_234\",\"ca_235\",\"ca_345\"],\n",
    "        \"Valor\":[ca_123,ca_124, ca_125, ca_134,ca_135, ca_145,ca_234,ca_235,ca_345]\n",
    "       }\n",
    "\n",
    "\n",
    "    df = pd.DataFrame(data)\n",
    "    df2=df.sort_values('Valor',ascending=False,ignore_index=True)\n",
    "\n",
    "    return df2\n",
    "    "
   ]
  },
  {
   "cell_type": "markdown",
   "metadata": {},
   "source": [
    "# List of the best combinations for all the constructs"
   ]
  },
  {
   "cell_type": "markdown",
   "metadata": {},
   "source": [
    "### Here I use those functions to find the best combination for each of the 7 constructs of my research"
   ]
  },
  {
   "cell_type": "code",
   "execution_count": 18,
   "metadata": {},
   "outputs": [
    {
     "data": {
      "text/html": [
       "<div>\n",
       "<style scoped>\n",
       "    .dataframe tbody tr th:only-of-type {\n",
       "        vertical-align: middle;\n",
       "    }\n",
       "\n",
       "    .dataframe tbody tr th {\n",
       "        vertical-align: top;\n",
       "    }\n",
       "\n",
       "    .dataframe thead th {\n",
       "        text-align: right;\n",
       "    }\n",
       "</style>\n",
       "<table border=\"1\" class=\"dataframe\">\n",
       "  <thead>\n",
       "    <tr style=\"text-align: right;\">\n",
       "      <th></th>\n",
       "      <th>Variavel</th>\n",
       "      <th>Combinacao</th>\n",
       "      <th>Valor</th>\n",
       "    </tr>\n",
       "  </thead>\n",
       "  <tbody>\n",
       "    <tr>\n",
       "      <th>0</th>\n",
       "      <td>Intencao</td>\n",
       "      <td>ca_145</td>\n",
       "      <td>0.926075</td>\n",
       "    </tr>\n",
       "    <tr>\n",
       "      <th>1</th>\n",
       "      <td>utilidade_percebida</td>\n",
       "      <td>ca_123</td>\n",
       "      <td>0.914075</td>\n",
       "    </tr>\n",
       "    <tr>\n",
       "      <th>2</th>\n",
       "      <td>confianca</td>\n",
       "      <td>ca_235</td>\n",
       "      <td>0.917952</td>\n",
       "    </tr>\n",
       "    <tr>\n",
       "      <th>3</th>\n",
       "      <td>transparencia_sistemica</td>\n",
       "      <td>ca_235</td>\n",
       "      <td>0.914264</td>\n",
       "    </tr>\n",
       "    <tr>\n",
       "      <th>4</th>\n",
       "      <td>competencia_tecnica</td>\n",
       "      <td>ca_234</td>\n",
       "      <td>0.774803</td>\n",
       "    </tr>\n",
       "    <tr>\n",
       "      <th>5</th>\n",
       "      <td>gestao_situacional</td>\n",
       "      <td>ca_134</td>\n",
       "      <td>0.699522</td>\n",
       "    </tr>\n",
       "    <tr>\n",
       "      <th>6</th>\n",
       "      <td>risco_percebido</td>\n",
       "      <td>ca_235</td>\n",
       "      <td>0.825225</td>\n",
       "    </tr>\n",
       "  </tbody>\n",
       "</table>\n",
       "</div>"
      ],
      "text/plain": [
       "                  Variavel Combinacao     Valor\n",
       "0                 Intencao     ca_145  0.926075\n",
       "1      utilidade_percebida     ca_123  0.914075\n",
       "2                confianca     ca_235  0.917952\n",
       "3  transparencia_sistemica     ca_235  0.914264\n",
       "4      competencia_tecnica     ca_234  0.774803\n",
       "5       gestao_situacional     ca_134  0.699522\n",
       "6          risco_percebido     ca_235  0.825225"
      ]
     },
     "metadata": {},
     "output_type": "display_data"
    }
   ],
   "source": [
    "# inciar a tabela\n",
    "xa=[]\n",
    "lista_de_opcoes_otimas_crombach=pd.DataFrame(xa,columns=['Variavel','Combinacao','Valor'])\n",
    "\n",
    "#popular\n",
    "\n",
    "\n",
    "\n",
    "\n",
    "linha = 0\n",
    "nome_da_variavel='Intencao'\n",
    "crombach_dataset_5c = dts_medo[['intencao_01','intencao_02','intencao_03','intencao_04','intencao_05']]\n",
    "\n",
    "crombach_resultados = crombach_5columns_3_in_3(crombach_dataset_5c) \n",
    "lista_de_opcoes_otimas_crombach.at[linha, 'Variavel'] = nome_da_variavel\n",
    "lista_de_opcoes_otimas_crombach.at[linha, 'Combinacao'] = crombach_resultados.iloc[0]['Combinacao']\n",
    "lista_de_opcoes_otimas_crombach.at[linha, 'Valor'] = crombach_resultados.iloc[0]['Valor']\n",
    "\n",
    "\n",
    "\n",
    "linha = 1\n",
    "nome_da_variavel='utilidade_percebida'\n",
    "crombach_dataset_5c = dts_medo[['utilidade_percebida_01','utilidade_percebida_02','utilidade_percebida_03','utilidade_percebida_04','utilidade_percebida_05']]\n",
    "\n",
    "crombach_resultados = crombach_5columns_3_in_3(crombach_dataset_5c) \n",
    "lista_de_opcoes_otimas_crombach.at[linha, 'Variavel'] = nome_da_variavel\n",
    "lista_de_opcoes_otimas_crombach.at[linha, 'Combinacao'] = crombach_resultados.iloc[0]['Combinacao']\n",
    "lista_de_opcoes_otimas_crombach.at[linha, 'Valor'] = crombach_resultados.iloc[0]['Valor']\n",
    "\n",
    "linha = 2\n",
    "nome_da_variavel='confianca'\n",
    "crombach_dataset_5c = dts_medo[['confianca_01','confianca_02','confianca_03','confianca_04','confianca_05']]\n",
    "\n",
    "crombach_resultados = crombach_5columns_3_in_3(crombach_dataset_5c) \n",
    "lista_de_opcoes_otimas_crombach.at[linha, 'Variavel'] = nome_da_variavel\n",
    "lista_de_opcoes_otimas_crombach.at[linha, 'Combinacao'] = crombach_resultados.iloc[0]['Combinacao']\n",
    "lista_de_opcoes_otimas_crombach.at[linha, 'Valor'] = crombach_resultados.iloc[0]['Valor']\n",
    "\n",
    "linha = 3\n",
    "nome_da_variavel='transparencia_sistemica'\n",
    "crombach_dataset_5c = dts_medo[['transparencia_sistemica_01','transparencia_sistemica_02','transparencia_sistemica_03','transparencia_sistemica_04','transparencia_sistemica_05']]\n",
    "\n",
    "crombach_resultados = crombach_5columns_3_in_3(crombach_dataset_5c) \n",
    "lista_de_opcoes_otimas_crombach.at[linha, 'Variavel'] = nome_da_variavel\n",
    "lista_de_opcoes_otimas_crombach.at[linha, 'Combinacao'] = crombach_resultados.iloc[0]['Combinacao']\n",
    "lista_de_opcoes_otimas_crombach.at[linha, 'Valor'] = crombach_resultados.iloc[0]['Valor']\n",
    "\n",
    "linha = 4\n",
    "nome_da_variavel='competencia_tecnica'\n",
    "crombach_dataset_5c = dts_medo[['competencia_tecnica_01','competencia_tecnica_02','competencia_tecnica_03','competencia_tecnica_04','competencia_tecnica_05']]\n",
    "\n",
    "crombach_resultados = crombach_5columns_3_in_3(crombach_dataset_5c) \n",
    "lista_de_opcoes_otimas_crombach.at[linha, 'Variavel'] = nome_da_variavel\n",
    "lista_de_opcoes_otimas_crombach.at[linha, 'Combinacao'] = crombach_resultados.iloc[0]['Combinacao']\n",
    "lista_de_opcoes_otimas_crombach.at[linha, 'Valor'] = crombach_resultados.iloc[0]['Valor']\n",
    "\n",
    "linha = 5\n",
    "nome_da_variavel='gestao_situacional'\n",
    "crombach_dataset_5c = dts_medo[['gestao_situacional_01','gestao_situacional_02','gestao_situacional_03','gestao_situacional_04','gestao_situacional_05']]\n",
    "\n",
    "crombach_resultados = crombach_5columns_3_in_3(crombach_dataset_5c) \n",
    "lista_de_opcoes_otimas_crombach.at[linha, 'Variavel'] = nome_da_variavel\n",
    "lista_de_opcoes_otimas_crombach.at[linha, 'Combinacao'] = crombach_resultados.iloc[0]['Combinacao']\n",
    "lista_de_opcoes_otimas_crombach.at[linha, 'Valor'] = crombach_resultados.iloc[0]['Valor']\n",
    "\n",
    "linha = 6\n",
    "nome_da_variavel='risco_percebido'\n",
    "crombach_dataset_5c = dts_medo[['risco_percebido_01','risco_percebido_02','risco_percebido_03','risco_percebido_04','risco_percebido_05']]\n",
    "\n",
    "crombach_resultados = crombach_5columns_3_in_3(crombach_dataset_5c) \n",
    "lista_de_opcoes_otimas_crombach.at[linha, 'Variavel'] = nome_da_variavel\n",
    "lista_de_opcoes_otimas_crombach.at[linha, 'Combinacao'] = crombach_resultados.iloc[0]['Combinacao']\n",
    "lista_de_opcoes_otimas_crombach.at[linha, 'Valor'] = crombach_resultados.iloc[0]['Valor']\n",
    "\n",
    "\n",
    "\n",
    "display(lista_de_opcoes_otimas_crombach)"
   ]
  },
  {
   "cell_type": "code",
   "execution_count": null,
   "metadata": {},
   "outputs": [],
   "source": []
  }
 ],
 "metadata": {
  "kernelspec": {
   "display_name": "Python 3",
   "language": "python",
   "name": "python3"
  },
  "language_info": {
   "codemirror_mode": {
    "name": "ipython",
    "version": 3
   },
   "file_extension": ".py",
   "mimetype": "text/x-python",
   "name": "python",
   "nbconvert_exporter": "python",
   "pygments_lexer": "ipython3",
   "version": "3.8.5"
  }
 },
 "nbformat": 4,
 "nbformat_minor": 4
}
